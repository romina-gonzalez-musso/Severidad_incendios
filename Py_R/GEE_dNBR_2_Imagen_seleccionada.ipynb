{
 "cells": [
  {
   "cell_type": "markdown",
   "id": "HMQh82Kk2MqN",
   "metadata": {
    "id": "HMQh82Kk2MqN"
   },
   "source": [
    "## **CÁLCULO DE ÍNDICE DE SEVERIDAD DE INCENDIO**\n",
    "\n",
    "<img src=\"https://github.com/romina-gonzalez-musso/Severidad_incendios/blob/main/_images/2_PyGEE.png?raw=true\" width=\"400\" height=\"300\">\n",
    "\n",
    "#### **MODO DE SELECCIÓN DE IMÁGENES:** previamente seleccionadas\n",
    "Gonzalez Musso, Romina / Versión: Julio 2025"
   ]
  },
  {
   "cell_type": "markdown",
   "id": "e336c82a-39e7-4d54-aa64-12fece402012",
   "metadata": {
    "id": "e336c82a-39e7-4d54-aa64-12fece402012"
   },
   "source": [
    "## **LIBRERIAS**"
   ]
  },
  {
   "cell_type": "code",
   "execution_count": null,
   "id": "O6gtgOYB2bzF",
   "metadata": {
    "id": "O6gtgOYB2bzF"
   },
   "outputs": [],
   "source": [
    "## EN COLAB -----------------------\n",
    "# Instalar cada vez que inicia Colab\n",
    "# pip install \"pycrs\"\n",
    "\n",
    "# Importar librerías\n",
    "# import ee\n",
    "# import geemap\n",
    "\n",
    "# Autenticar el usuario de GEE\n",
    "# ee.Authenticate()\n",
    "\n",
    "# Inicializar GEE con el Cloud Project\n",
    "# ee.Initialize(project='mi-cloud-project')"
   ]
  },
  {
   "cell_type": "code",
   "execution_count": 1,
   "id": "alternative-sweet",
   "metadata": {
    "id": "alternative-sweet"
   },
   "outputs": [],
   "source": [
    "## EN NOTEBOOK LOCAL -----------------------\n",
    "# Importar librerías\n",
    "\n",
    "# import ee\n",
    "# import geemap\n",
    "# ee.Initialize()"
   ]
  },
  {
   "cell_type": "markdown",
   "id": "85622e3b-53de-4229-8161-995e2beb4cff",
   "metadata": {
    "id": "85622e3b-53de-4229-8161-995e2beb4cff",
    "tags": []
   },
   "source": [
    "## **AREA DE ESTUDIO**\n",
    "\n",
    "Importar un shape local que contenga el área de estudio donde se va a hacer la búsqueda de imágenes"
   ]
  },
  {
   "cell_type": "code",
   "execution_count": null,
   "id": "s5FCM9Tt2pcQ",
   "metadata": {
    "id": "s5FCM9Tt2pcQ"
   },
   "outputs": [],
   "source": [
    "## EN COLAB -----------------------\n",
    "# from google.colab import files\n",
    "# uploaded = files.upload()\n",
    "\n",
    "# roi = geemap.shp_to_ee(\"area.shp\")"
   ]
  },
  {
   "cell_type": "code",
   "execution_count": 2,
   "id": "6cabd09b-26ce-4eab-bb7d-cd9f2af78e31",
   "metadata": {
    "id": "6cabd09b-26ce-4eab-bb7d-cd9f2af78e31"
   },
   "outputs": [
    {
     "data": {
      "text/html": [
       "\n",
       "            <style>\n",
       "                .geemap-dark {\n",
       "                    --jp-widgets-color: white;\n",
       "                    --jp-widgets-label-color: white;\n",
       "                    --jp-ui-font-color1: white;\n",
       "                    --jp-layout-color2: #454545;\n",
       "                    background-color: #383838;\n",
       "                }\n",
       "\n",
       "                .geemap-dark .jupyter-button {\n",
       "                    --jp-layout-color3: #383838;\n",
       "                }\n",
       "\n",
       "                .geemap-colab {\n",
       "                    background-color: var(--colab-primary-surface-color, white);\n",
       "                }\n",
       "\n",
       "                .geemap-colab .jupyter-button {\n",
       "                    --jp-layout-color3: var(--colab-primary-surface-color, white);\n",
       "                }\n",
       "            </style>\n",
       "            "
      ],
      "text/plain": [
       "<IPython.core.display.HTML object>"
      ]
     },
     "metadata": {},
     "output_type": "display_data"
    }
   ],
   "source": [
    "## EN NOTEBOOK LOCAL -----------------------\n",
    "# roi = geemap.shp_to_ee(\"/home/romina/Descargas/2025-08_Taller_APN_Severidad_incendios/Inputs/area.shp\")"
   ]
  },
  {
   "cell_type": "markdown",
   "id": "0ffe666b-d7fa-41c5-be16-bd88139c0c9a",
   "metadata": {
    "id": "0ffe666b-d7fa-41c5-be16-bd88139c0c9a"
   },
   "source": [
    "## **FECHAS**\n",
    "En este caso, se pondrá un rango de fechas que apunte a dos imágenes ya seleccionadas previamente en algún portal externo, como por ejemplo el [Explorador Copernicus ](https://browser.dataspace.copernicus.eu)\n",
    "\n"
   ]
  },
  {
   "cell_type": "code",
   "execution_count": 3,
   "id": "arctic-database",
   "metadata": {
    "id": "arctic-database"
   },
   "outputs": [
    {
     "data": {
      "text/html": [
       "\n",
       "            <style>\n",
       "                .geemap-dark {\n",
       "                    --jp-widgets-color: white;\n",
       "                    --jp-widgets-label-color: white;\n",
       "                    --jp-ui-font-color1: white;\n",
       "                    --jp-layout-color2: #454545;\n",
       "                    background-color: #383838;\n",
       "                }\n",
       "\n",
       "                .geemap-dark .jupyter-button {\n",
       "                    --jp-layout-color3: #383838;\n",
       "                }\n",
       "\n",
       "                .geemap-colab {\n",
       "                    background-color: var(--colab-primary-surface-color, white);\n",
       "                }\n",
       "\n",
       "                .geemap-colab .jupyter-button {\n",
       "                    --jp-layout-color3: var(--colab-primary-surface-color, white);\n",
       "                }\n",
       "            </style>\n",
       "            "
      ],
      "text/plain": [
       "<IPython.core.display.HTML object>"
      ]
     },
     "metadata": {},
     "output_type": "display_data"
    }
   ],
   "source": [
    "pre_fire = ['2024-11-29', '2024-12-01']    # 30/11/2024\n",
    "post_fire = ['2025-03-24', '2025-03-26']   # 25/03/2025 o 04/04/2025"
   ]
  },
  {
   "cell_type": "markdown",
   "id": "KUvkbB-l3N1Q",
   "metadata": {
    "id": "KUvkbB-l3N1Q"
   },
   "source": [
    "## **COLECCIÓN DE IMÁGENES**\n",
    "Se usarán imágenes *Surface Reflectance* de [Sentintel 2](https://developers.google.com/earth-engine/datasets/catalog/COPERNICUS_S2_SR_HARMONIZED?hl=es-419)"
   ]
  },
  {
   "cell_type": "code",
   "execution_count": 4,
   "id": "environmental-gamma",
   "metadata": {
    "id": "environmental-gamma"
   },
   "outputs": [
    {
     "data": {
      "text/html": [
       "\n",
       "            <style>\n",
       "                .geemap-dark {\n",
       "                    --jp-widgets-color: white;\n",
       "                    --jp-widgets-label-color: white;\n",
       "                    --jp-ui-font-color1: white;\n",
       "                    --jp-layout-color2: #454545;\n",
       "                    background-color: #383838;\n",
       "                }\n",
       "\n",
       "                .geemap-dark .jupyter-button {\n",
       "                    --jp-layout-color3: #383838;\n",
       "                }\n",
       "\n",
       "                .geemap-colab {\n",
       "                    background-color: var(--colab-primary-surface-color, white);\n",
       "                }\n",
       "\n",
       "                .geemap-colab .jupyter-button {\n",
       "                    --jp-layout-color3: var(--colab-primary-surface-color, white);\n",
       "                }\n",
       "            </style>\n",
       "            "
      ],
      "text/plain": [
       "<IPython.core.display.HTML object>"
      ]
     },
     "metadata": {},
     "output_type": "display_data"
    }
   ],
   "source": [
    "# SENTINEL PRE-FIRE\n",
    "s2_pre_Col = ee.ImageCollection('COPERNICUS/S2_SR_HARMONIZED')\\\n",
    "        .filterBounds(roi)\\\n",
    "        .filterDate(pre_fire[0], pre_fire[1])\n",
    "\n",
    "s2_pre = s2_pre_Col.mosaic().clip(roi)  # Imagen Pre\n",
    "\n",
    "# SENTINEL POST-FIRE\n",
    "s2_post_Col = ee.ImageCollection('COPERNICUS/S2_SR_HARMONIZED')\\\n",
    "        .filterBounds(roi)\\\n",
    "        .filterDate(post_fire[0], post_fire[1])\n",
    "\n",
    "s2_post = s2_post_Col.mosaic().clip(roi) # Imagen Post"
   ]
  },
  {
   "cell_type": "code",
   "execution_count": 5,
   "id": "8d41f3f0-990b-47fe-b85f-d857b8492ea0",
   "metadata": {
    "id": "8d41f3f0-990b-47fe-b85f-d857b8492ea0"
   },
   "outputs": [
    {
     "data": {
      "text/html": [
       "\n",
       "            <style>\n",
       "                .geemap-dark {\n",
       "                    --jp-widgets-color: white;\n",
       "                    --jp-widgets-label-color: white;\n",
       "                    --jp-ui-font-color1: white;\n",
       "                    --jp-layout-color2: #454545;\n",
       "                    background-color: #383838;\n",
       "                }\n",
       "\n",
       "                .geemap-dark .jupyter-button {\n",
       "                    --jp-layout-color3: #383838;\n",
       "                }\n",
       "\n",
       "                .geemap-colab {\n",
       "                    background-color: var(--colab-primary-surface-color, white);\n",
       "                }\n",
       "\n",
       "                .geemap-colab .jupyter-button {\n",
       "                    --jp-layout-color3: var(--colab-primary-surface-color, white);\n",
       "                }\n",
       "            </style>\n",
       "            "
      ],
      "text/plain": [
       "<IPython.core.display.HTML object>"
      ]
     },
     "metadata": {},
     "output_type": "display_data"
    },
    {
     "name": "stdout",
     "output_type": "stream",
     "text": [
      "La fecha pre-incendio es: ['2024-11-30']\n",
      "La fecha post-incendio es: ['2025-03-25']\n"
     ]
    }
   ],
   "source": [
    "# Comprobar que la fechas de las imágenes son las que estábamos buscando\n",
    "def get_date(image):\n",
    "    return ee.Feature(None, {\n",
    "        'date': image.date().format('YYYY-MM-dd')})\n",
    "\n",
    "# Pre incendio\n",
    "Fecha_pre = s2_pre_Col.map(get_date).aggregate_array('date').getInfo()\n",
    "Fecha_pre = sorted(list(set(Fecha_pre)))\n",
    "\n",
    "# Post Incendio\n",
    "Fecha_post = s2_post_Col.map(get_date).aggregate_array('date').getInfo()\n",
    "Fecha_post = sorted(list(set(Fecha_post)))\n",
    "\n",
    "print(\"La fecha pre-incendio es:\", Fecha_pre)\n",
    "print(\"La fecha post-incendio es:\", Fecha_post)"
   ]
  },
  {
   "cell_type": "markdown",
   "id": "3ad8db42-e792-4e7d-a6ce-6d98e59e376e",
   "metadata": {
    "id": "3ad8db42-e792-4e7d-a6ce-6d98e59e376e"
   },
   "source": [
    "#### **Visualizar imágenes**"
   ]
  },
  {
   "cell_type": "code",
   "execution_count": null,
   "id": "ede5ca32-deb0-4ac4-8fc7-549875382562",
   "metadata": {
    "id": "ede5ca32-deb0-4ac4-8fc7-549875382562"
   },
   "outputs": [],
   "source": [
    "# VISUALIZAR CON CORTINILLA PARA COMPARAR\n",
    "Map = geemap.Map()\n",
    "\n",
    "vis_true_color = {'bands': ['B4', 'B3', 'B2'], 'max': 2000, 'min': 10, 'gamma': 1.5}\n",
    "vis_swir = {'bands': ['B12', 'B8A', 'B4'], 'max': 4000, 'min': 150, 'gamma': 1.5}\n",
    "\n",
    "# Crear capas como tile layer\n",
    "left_layer = geemap.ee_tile_layer(s2_pre.visualize(**vis_true_color), name='Pre-fire', shown=True)\n",
    "right_layer = geemap.ee_tile_layer(s2_post.visualize(**vis_true_color), name='Post-fire', shown=True)\n",
    "\n",
    "# Agregar la cortinilla interactiva\n",
    "Map.split_map(left_layer=left_layer, right_layer=right_layer)\n",
    "\n",
    "# Centrar el mapa en tu ROI\n",
    "Map.centerObject(roi, zoom=10)\n",
    "Map"
   ]
  },
  {
   "cell_type": "markdown",
   "id": "1060c744-cf84-4c08-8c43-948256ef76ce",
   "metadata": {
    "id": "1060c744-cf84-4c08-8c43-948256ef76ce"
   },
   "source": [
    "## **Opcional: aplicar máscaras de agua y vegetación**"
   ]
  },
  {
   "cell_type": "markdown",
   "id": "e5ebba16-903d-466f-8e9a-d3303691e323",
   "metadata": {
    "id": "e5ebba16-903d-466f-8e9a-d3303691e323"
   },
   "source": [
    "#### **Máscara de agua**"
   ]
  },
  {
   "cell_type": "code",
   "execution_count": null,
   "id": "0508d739-6c4f-4f1f-a89d-342b7cf440ff",
   "metadata": {
    "id": "0508d739-6c4f-4f1f-a89d-342b7cf440ff"
   },
   "outputs": [],
   "source": [
    "# Máscara de agua con Global Surface Water\n",
    "gsw = ee.Image(\"JRC/GSW1_2/GlobalSurfaceWater\")\n",
    "water_mask = gsw.select('seasonality').lt(11).unmask(1).clip(roi)"
   ]
  },
  {
   "cell_type": "markdown",
   "id": "5c31da03-62c3-4014-94f8-062f058ed973",
   "metadata": {
    "id": "5c31da03-62c3-4014-94f8-062f058ed973"
   },
   "source": [
    "#### **Máscara de vegetación**"
   ]
  },
  {
   "cell_type": "code",
   "execution_count": null,
   "id": "5c217dbd-806b-467c-86db-a62d15472f01",
   "metadata": {
    "id": "5c217dbd-806b-467c-86db-a62d15472f01"
   },
   "outputs": [],
   "source": [
    "def getIndexes(image):\n",
    "    ndwi = image.normalizedDifference(['B3', 'B5']).rename('NDWI')\n",
    "    ndvi = image.normalizedDifference(['B8', 'B4']).rename('NDVI')\n",
    "    return image.addBands([ndvi, ndwi])\n",
    "\n",
    "indices = getIndexes(s2_pre)\n",
    "\n",
    "# Máscaras de vegetación con NDVI\n",
    "veg_mask = indices.select('NDVI').gte(0.08).unmask(1).clip(roi)"
   ]
  },
  {
   "cell_type": "code",
   "execution_count": null,
   "id": "e03f1152-f106-4f54-8c9c-aaac62485a43",
   "metadata": {
    "id": "e03f1152-f106-4f54-8c9c-aaac62485a43"
   },
   "outputs": [],
   "source": [
    "# Aplicar las máscaras\n",
    "s2_pre_mask = s2_pre.mask(water_mask).mask(veg_mask)\n",
    "s2_post_mask = s2_post.mask(water_mask).mask(veg_mask)"
   ]
  },
  {
   "cell_type": "code",
   "execution_count": null,
   "id": "75d9f82b-99c1-4445-a466-575e1a8260bb",
   "metadata": {
    "id": "75d9f82b-99c1-4445-a466-575e1a8260bb"
   },
   "outputs": [],
   "source": [
    "# VISUALIZAR CON CORTINILLA PARA COMPARAR\n",
    "Map = geemap.Map()\n",
    "\n",
    "vis_true_color = {'bands': ['B4', 'B3', 'B2'], 'max': 2000, 'min': 10, 'gamma': 1.5}\n",
    "vis_swir = {'bands': ['B12', 'B8A', 'B4'], 'max': 4000, 'min': 150, 'gamma': 1.5}\n",
    "\n",
    "# Crear capas como tile layer\n",
    "left_layer = geemap.ee_tile_layer(s2_post.visualize(**vis_true_color), name='Pre-fire', shown=True)\n",
    "right_layer = geemap.ee_tile_layer(s2_post_mask.visualize(**vis_true_color), name='Post-fire', shown=True)\n",
    "\n",
    "# Agregar la cortinilla interactiva\n",
    "Map.split_map(left_layer=left_layer, right_layer=right_layer)\n",
    "\n",
    "# Centrar el mapa en tu ROI\n",
    "Map.centerObject(roi, zoom=10)\n",
    "Map"
   ]
  },
  {
   "cell_type": "markdown",
   "id": "3a2a5d48-66e8-4875-880f-8ad47a54234d",
   "metadata": {
    "id": "3a2a5d48-66e8-4875-880f-8ad47a54234d"
   },
   "source": [
    "## **Cálculo del Índice NBR (Índice Normalizado de Área Quemada)**"
   ]
  },
  {
   "cell_type": "markdown",
   "id": "fcce5ce4-36ef-4817-ab36-20ed974423a1",
   "metadata": {
    "id": "fcce5ce4-36ef-4817-ab36-20ed974423a1"
   },
   "source": [
    "![imagen](https://github.com/romina-gonzalez-musso/Severidad_Incendio-Steffen-Martin22/blob/master/_images/1_NBR_formula.jpg?raw=true)"
   ]
  },
  {
   "cell_type": "code",
   "execution_count": null,
   "id": "varying-clarity",
   "metadata": {
    "id": "varying-clarity"
   },
   "outputs": [],
   "source": [
    "preNBR = s2_pre_mask.normalizedDifference(['B8A', 'B12'])\n",
    "postNBR = s2_post_mask.normalizedDifference(['B8A', 'B12'])\n",
    "# Delta NBR\n",
    "dNBR_unscaled = preNBR.subtract(postNBR)"
   ]
  },
  {
   "cell_type": "markdown",
   "id": "8a7fd7ad-4d93-4ad4-860b-230675282271",
   "metadata": {
    "id": "8a7fd7ad-4d93-4ad4-860b-230675282271"
   },
   "source": [
    "#### **Calcular el dNBR offset**\n",
    "Link al paper: https://www.mdpi.com/2072-4292/6/3/1827"
   ]
  },
  {
   "cell_type": "code",
   "execution_count": null,
   "id": "spoken-venice",
   "metadata": {
    "id": "spoken-venice"
   },
   "outputs": [],
   "source": [
    "# dNBRoffset --> -0.0277 (o 27.7 si se escala por 1000)\n",
    "dNBRoffset = 0.0277\n",
    "\n",
    "# dNBR sin escalar\n",
    "dNBR_unscaled = dNBR_unscaled.subtract(0.0277)\n",
    "\n",
    "# Scale product to USGS standards\n",
    "dNBR = dNBR_unscaled.multiply(1000)"
   ]
  },
  {
   "cell_type": "markdown",
   "id": "fc634660-432a-4d07-90df-6c0dda506baf",
   "metadata": {
    "id": "fc634660-432a-4d07-90df-6c0dda506baf",
    "tags": []
   },
   "source": [
    "#### **Visualizar imágenes y dNBR**"
   ]
  },
  {
   "cell_type": "code",
   "execution_count": null,
   "id": "7b5e8039-ce2e-4d8f-a85f-695c0f11123d",
   "metadata": {
    "id": "7b5e8039-ce2e-4d8f-a85f-695c0f11123d"
   },
   "outputs": [],
   "source": [
    "Map = geemap.Map(center=[-40,-71], zoom=4)\n",
    "\n",
    "# DELTA NBR\n",
    "Map.addLayer(dNBR, {'max': 1200, 'min': 0}, 'dNBR')\n",
    "\n",
    "# NBR en GRIS\n",
    "vis_grey = {'palette': ['white', 'black'], 'max': 1, 'min': -1}\n",
    "\n",
    "Map.addLayer(preNBR, vis_grey, 'PreNBR')\n",
    "Map.addLayer(postNBR, vis_grey, 'PostNBR')\n",
    "\n",
    "# IMÁGENES\n",
    "vis_true_color = {'bands': ['B4', 'B3', 'B2'], 'max': 2000, 'min': 10, 'gamma': 1.5}\n",
    "vis_swir = {'bands': ['B12', 'B8A', 'B4'], 'max': 4000, 'min': 150, 'gamma': 1.5}\n",
    "\n",
    "Map.addLayer(s2_pre, vis_swir, 'Pre')\n",
    "Map.addLayer(s2_post, vis_swir, 'Post')\n",
    "\n",
    "Map.centerObject(roi)\n",
    "\n",
    "Map"
   ]
  },
  {
   "cell_type": "markdown",
   "id": "a3269589-8fb9-4dcf-aae4-253a6db3d522",
   "metadata": {
    "id": "a3269589-8fb9-4dcf-aae4-253a6db3d522"
   },
   "source": [
    "#### **ESCALA USGS**\n",
    "Link: https://un-spider.org/advisory-support/recommended-practices/recommended-practice-burn-severity/in-detail/normalized-burn-ratio\n",
    "\n",
    "<img src=\"https://github.com/romina-gonzalez-musso/Severidad_Incendio-Steffen-Martin22/blob/master/_images/1_classes.png?raw=true\" width=\"800\">"
   ]
  },
  {
   "cell_type": "code",
   "execution_count": null,
   "id": "demographic-galaxy",
   "metadata": {
    "id": "demographic-galaxy"
   },
   "outputs": [],
   "source": [
    "# Escala de colores USGS\n",
    "sld_intervals = \\\n",
    "  '<RasterSymbolizer>' + \\\n",
    "    '<ColorMap type=\"intervals\" extended=\"false\" >' + \\\n",
    "      '<ColorMapEntry color=\"#ffffff\" quantity=\"-500\" label=\"-500\"  />' + \\\n",
    "      '<ColorMapEntry color=\"#7a8737\" quantity=\"-250\" label=\"-250\"  />' + \\\n",
    "      '<ColorMapEntry color=\"#acbe4d\" quantity=\"-100\" label=\"-100\" />' + \\\n",
    "      '<ColorMapEntry color=\"#0ae042\" quantity=\"100\" label=\"100\" />' + \\\n",
    "      '<ColorMapEntry color=\"#fff70b\" quantity=\"270\" label=\"270\" />' + \\\n",
    "      '<ColorMapEntry color=\"#ffaf38\" quantity=\"440\" label=\"440\" />' + \\\n",
    "      '<ColorMapEntry color=\"#ff641b\" quantity=\"660\" label=\"660\" />' + \\\n",
    "      '<ColorMapEntry color=\"#a41fd6\" quantity=\"2000\" label=\"2000\" />' + \\\n",
    "    '</ColorMap>' + \\\n",
    "  '</RasterSymbolizer>'\n",
    "\n",
    "# Escala de colores USGS modificado por Romi\n",
    "sld_intervals_romi = \\\n",
    "  '<RasterSymbolizer>' + \\\n",
    "    '<ColorMap type=\"intervals\" extended=\"false\" >' + \\\n",
    "      '<ColorMapEntry color=\"#000000\" quantity=\"-500\" label=\"-500\"  />' + \\\n",
    "      '<ColorMapEntry color=\"#000000\" quantity=\"-250\" label=\"-250\"  />' + \\\n",
    "      '<ColorMapEntry color=\"#000000\" quantity=\"-100\" label=\"-100\" />' + \\\n",
    "      '<ColorMapEntry color=\"#000000\" quantity=\"100\" label=\"100\" />' + \\\n",
    "      '<ColorMapEntry color=\"#fff70b\" quantity=\"270\" label=\"270\" />' + \\\n",
    "      '<ColorMapEntry color=\"#ffaf38\" quantity=\"440\" label=\"440\" />' + \\\n",
    "      '<ColorMapEntry color=\"#ff641b\" quantity=\"660\" label=\"660\" />' + \\\n",
    "      '<ColorMapEntry color=\"#a41fd6\" quantity=\"2000\" label=\"2000\" />' + \\\n",
    "    '</ColorMap>' + \\\n",
    "  '</RasterSymbolizer>'"
   ]
  },
  {
   "cell_type": "code",
   "execution_count": null,
   "id": "92c927d6-0bc9-45b8-aee5-1798b45557e8",
   "metadata": {
    "id": "92c927d6-0bc9-45b8-aee5-1798b45557e8"
   },
   "outputs": [],
   "source": [
    "Map = geemap.Map()\n",
    "\n",
    "# Visualización para Sentinel-2\n",
    "vis_true_color = {'bands': ['B4', 'B3', 'B2'], 'max': 2000, 'min': 10, 'gamma': 1.5}\n",
    "\n",
    "# Crear capas\n",
    "left_layer = geemap.ee_tile_layer(s2_post.visualize(**vis_true_color), name='Post-fire', shown=True)\n",
    "right_layer = geemap.ee_tile_layer(dNBR.sldStyle(sld_intervals_romi), name='dNBR classified', shown=True)\n",
    "\n",
    "# Cortinilla\n",
    "Map.split_map(left_layer=left_layer, right_layer=right_layer)\n",
    "Map.centerObject(roi, zoom=10)\n",
    "Map"
   ]
  },
  {
   "cell_type": "markdown",
   "id": "f8ddb512-2815-4a07-976b-ec94640548f1",
   "metadata": {
    "id": "f8ddb512-2815-4a07-976b-ec94640548f1"
   },
   "source": [
    "## **EXPORTAR ASSETS**"
   ]
  },
  {
   "cell_type": "code",
   "execution_count": null,
   "id": "db859ff1-0263-40cb-801e-8a6c602e75a0",
   "metadata": {
    "id": "db859ff1-0263-40cb-801e-8a6c602e75a0"
   },
   "outputs": [],
   "source": [
    "## IMAGEN PRE-INCENDIO\n",
    "s2_pre_bands = ee.Image(s2_pre).select(\n",
    "    ['B2',  'B3',   'B4',   'B8A',   'B12'],\n",
    "    ['blue', 'green', 'red', 'nir2', 'swir2']) # Blue (10m) - Green (10m) - Red (10m) - NIR2 - SWIR2 (20m)\n",
    "\n",
    "pre_name = \"S2_pre_incendio_\" + ' '.join(Fecha_pre)\n",
    "\n",
    "# Armar el task\n",
    "from ee.batch import Export\n",
    "task = Export.image.toDrive(\n",
    "            image= s2_pre_bands,\n",
    "            description = pre_name,\n",
    "            folder= \"GEE_export\",\n",
    "            scale= 10,\n",
    "            crs = 'EPSG:4326',\n",
    "            region = roi.geometry())\n",
    "\n",
    "# Iniciar el task\n",
    "task.start()"
   ]
  },
  {
   "cell_type": "code",
   "execution_count": null,
   "id": "0817dab4-1a55-4ed8-a821-34f35f9343ea",
   "metadata": {
    "id": "0817dab4-1a55-4ed8-a821-34f35f9343ea"
   },
   "outputs": [],
   "source": [
    "## IMAGEN POST-INCENDIO\n",
    "s2_post_bands = ee.Image(s2_post).select(\n",
    "    ['B2',  'B3',   'B4',   'B8A',   'B12'],\n",
    "    ['blue', 'green', 'red', 'nir2', 'swir2']) # Blue (10m) - Green (10m) - Red (10m) - NIR2 - SWIR2 (20m)\n",
    "\n",
    "post_name = \"S2_post_incendio_\" + ' '.join(Fecha_post)\n",
    "\n",
    "# Armar el task\n",
    "from ee.batch import Export\n",
    "task = Export.image.toDrive(\n",
    "            image= s2_post_bands,\n",
    "            description = post_name,\n",
    "            folder= \"GEE_export\",\n",
    "            scale= 10,\n",
    "            crs = 'EPSG:4326',\n",
    "            region = roi.geometry())\n",
    "\n",
    "# Iniciar el task\n",
    "task.start()"
   ]
  },
  {
   "cell_type": "code",
   "execution_count": null,
   "id": "56e08b72-d50b-41a0-81f7-84d5232cb479",
   "metadata": {
    "id": "56e08b72-d50b-41a0-81f7-84d5232cb479"
   },
   "outputs": [],
   "source": [
    "## dNBR\n",
    "from ee.batch import Export\n",
    "task = Export.image.toDrive(\n",
    "            image= dNBR,\n",
    "            description = \"dNBR\",\n",
    "            folder= \"GEE_export\",\n",
    "            scale= 10,\n",
    "            crs = 'EPSG:4326',\n",
    "            region = roi.geometry())\n",
    "\n",
    "# Iniciar el task\n",
    "task.start()"
   ]
  }
 ],
 "metadata": {
  "colab": {
   "provenance": []
  },
  "kernelspec": {
   "display_name": "Python 3 (ipykernel)",
   "language": "python",
   "name": "python3"
  },
  "language_info": {
   "codemirror_mode": {
    "name": "ipython",
    "version": 3
   },
   "file_extension": ".py",
   "mimetype": "text/x-python",
   "name": "python",
   "nbconvert_exporter": "python",
   "pygments_lexer": "ipython3",
   "version": "3.13.2"
  }
 },
 "nbformat": 4,
 "nbformat_minor": 5
}
